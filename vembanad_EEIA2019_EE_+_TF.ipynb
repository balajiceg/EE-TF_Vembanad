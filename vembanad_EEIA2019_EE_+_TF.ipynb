{
  "nbformat": 4,
  "nbformat_minor": 0,
  "metadata": {
    "colab": {
      "name": "vembanad EEIA2019 EE + TF.ipynb",
      "version": "0.3.2",
      "provenance": [],
      "private_outputs": true,
      "collapsed_sections": [],
      "toc_visible": true,
      "include_colab_link": true
    },
    "kernelspec": {
      "name": "python2",
      "display_name": "Python 2"
    },
    "accelerator": "GPU"
  },
  "cells": [
    {
      "cell_type": "markdown",
      "metadata": {
        "id": "view-in-github",
        "colab_type": "text"
      },
      "source": [
        "<a href=\"https://colab.research.google.com/github/balajiceg/EE_TF_Vembanad/blob/master/vembanad_EEIA2019_EE_%2B_TF.ipynb\" target=\"_parent\"><img src=\"https://colab.research.google.com/assets/colab-badge.svg\" alt=\"Open In Colab\"/></a>"
      ]
    },
    {
      "cell_type": "markdown",
      "metadata": {
        "colab_type": "text",
        "id": "AC8adBmw-5m3"
      },
      "source": [
        "# Introduction\n",
        "\n",
        "This is an Earth Engine <> TensorFlow demonstration notebook.  Specifically, this notebook shows:\n",
        "\n",
        "1.   Using training/testing data exported from Earth Engine in TFRecord format.\n",
        "2.   Training and validating a simple model (Keras `Sequential` neural network) in TensorFlow.\n",
        "3.   Making predictions on image data exported from Earth Engine in TFRecord format.\n",
        "4.   Importing classified image data to Earth Engine in TFRecord format."
      ]
    },
    {
      "cell_type": "markdown",
      "metadata": {
        "colab_type": "text",
        "id": "KiTyR3FNlv-O"
      },
      "source": [
        "# Install the Earth Engine client library\n",
        "\n",
        "This only needs to be done once per notebook."
      ]
    },
    {
      "cell_type": "code",
      "metadata": {
        "cellView": "code",
        "colab_type": "code",
        "id": "sYyTIPLsvMWl",
        "colab": {}
      },
      "source": [
        "!pip install earthengine-api"
      ],
      "execution_count": 0,
      "outputs": []
    },
    {
      "cell_type": "markdown",
      "metadata": {
        "colab_type": "text",
        "id": "qptAXhKmXo_J"
      },
      "source": [
        "# Authentication\n",
        "\n",
        "To read/write from a Google Cloud Storage bucket to which you have access, it's necessary to authenticate (as yourself).  You'll also need to authenticate as yourself with Earth Engine, so that you'll have access to your scripts, assets, etc."
      ]
    },
    {
      "cell_type": "markdown",
      "metadata": {
        "colab_type": "text",
        "id": "dEM3FP4YakJg"
      },
      "source": [
        "## Authenticate to Colab and Cloud\n",
        "\n",
        "Identify yourself to Google Cloud, so you have access to storage and other resources.  When you run the code below, it will display a link in the output to an authentication page in your browser.  Follow the link to a page that will let you grant permission to the Cloud SDK to access your resources.  Copy the code from the permissions page back into this notebook and press return to complete the process.\n",
        "\n",
        "(You may need to run this again if you get a credentials error later.)"
      ]
    },
    {
      "cell_type": "code",
      "metadata": {
        "cellView": "code",
        "colab_type": "code",
        "id": "5qMKG1hEXuML",
        "colab": {}
      },
      "source": [
        "from google.colab import auth\n",
        "\n",
        "auth.authenticate_user()"
      ],
      "execution_count": 0,
      "outputs": []
    },
    {
      "cell_type": "markdown",
      "metadata": {
        "colab_type": "text",
        "id": "Ejxa1MQjEGv9"
      },
      "source": [
        "## Authenticate to Earth Engine\n",
        "\n",
        "Authenticate to Earth Engine the same way you did to the Colab notebook.  Specifically, run the code to display a link to a permissions page.  This gives you access to your Earth Engine account.  Copy the code from the Earth Engine permissions page back into the notebook and press return to complete the process."
      ]
    },
    {
      "cell_type": "code",
      "metadata": {
        "cellView": "code",
        "colab_type": "code",
        "id": "HzwiVqbcmJIX",
        "colab": {}
      },
      "source": [
        "!earthengine authenticate"
      ],
      "execution_count": 0,
      "outputs": []
    },
    {
      "cell_type": "markdown",
      "metadata": {
        "colab_type": "text",
        "id": "SMkNljPGMzyG"
      },
      "source": [
        "# Test the software setup"
      ]
    },
    {
      "cell_type": "markdown",
      "metadata": {
        "colab_type": "text",
        "id": "eJPDyllIMRAa"
      },
      "source": [
        "## Test the Earth Engine installation\n",
        "\n"
      ]
    },
    {
      "cell_type": "code",
      "metadata": {
        "colab_type": "code",
        "id": "uuAk34-HMXnG",
        "colab": {}
      },
      "source": [
        "# Import the Earth Engine API and initialize it.\n",
        "import ee\n",
        "ee.Initialize()\n",
        "\n",
        "# Test the earthengine command by getting help on upload.\n",
        "!earthengine upload image -h"
      ],
      "execution_count": 0,
      "outputs": []
    },
    {
      "cell_type": "markdown",
      "metadata": {
        "colab_type": "text",
        "id": "iJ70EsoWND_0"
      },
      "source": [
        "## Test the TensorFlow installation\n",
        "\n",
        "The default public runtime already has the tensorflow libraries we need installed.  Before any operations from the TensorFlow API are used, import TensorFlow and enable eager execution.  This provides an imperative interface that can help with debugging.  See the [TensorFlow eager execution guide](https://www.tensorflow.org/guide/eager) or the [`tf.enable_eager_execution()` docs](https://www.tensorflow.org/api_docs/python/tf/enable_eager_execution) for details. "
      ]
    },
    {
      "cell_type": "code",
      "metadata": {
        "cellView": "code",
        "colab_type": "code",
        "id": "i1PrYRLaVw_g",
        "colab": {}
      },
      "source": [
        "import tensorflow as tf\n",
        "\n",
        "tf.enable_eager_execution()\n",
        "print(tf.__version__)"
      ],
      "execution_count": 0,
      "outputs": []
    },
    {
      "cell_type": "markdown",
      "metadata": {
        "colab_type": "text",
        "id": "9vWdH_wlZCEk"
      },
      "source": [
        "# Data preparation and pre-processing\n",
        "\n",
        "Read data from the TFRecord file into a `tf.data.Dataset`.  Pre-process the dataset to get it into a suitable format for input to the model."
      ]
    },
    {
      "cell_type": "markdown",
      "metadata": {
        "colab_type": "text",
        "id": "LS4jGTrEfz-1"
      },
      "source": [
        "## Read into a `tf.data.Dataset`\n",
        "\n",
        "Here we are going to read a file in Cloud Storage into a `tf.data.Dataset`.  ([these TensorFlow docs](https://www.tensorflow.org/guide/premade_estimators#create_input_functions) explain more about reading data into a `Dataset`).  Check that you can read examples from the file.  The purpose here is to ensure that we can read from the file without an error.  The actual content is not necessarily human readable.\n",
        "\n"
      ]
    },
    {
      "cell_type": "code",
      "metadata": {
        "id": "DbNHAmjj8arA",
        "colab_type": "code",
        "colab": {}
      },
      "source": [
        "#link gdrive to import the tfrecord\n",
        "from google.colab import drive\n",
        "drive.mount('/gdrive')\n",
        "%cd /gdrive"
      ],
      "execution_count": 0,
      "outputs": []
    },
    {
      "cell_type": "code",
      "metadata": {
        "cellView": "code",
        "colab_type": "code",
        "id": "T3PKyDQW8Vpx",
        "colab": {}
      },
      "source": [
        "# Create a dataset from the TFRecord file in Cloud Storage.\n",
        "from pprint import pprint\n",
        "trainDataset = tf.data.TFRecordDataset(\"/gdrive/My Drive/vembanad_samples_1218/vembanad_samples_1218.gz\", compression_type='GZIP')\n",
        "# Print the first record to check.\n",
        "pprint(iter(trainDataset).next())"
      ],
      "execution_count": 0,
      "outputs": []
    },
    {
      "cell_type": "markdown",
      "metadata": {
        "colab_type": "text",
        "id": "BrDYm-ibKR6t"
      },
      "source": [
        "## Define the structure of your data\n",
        "\n",
        "For parsing the exported TFRecord files, `featuresDict` is a mapping between feature names (recall that `featureNames` contains the band and label names) and `float32` [`tf.io.FixedLenFeature`](https://www.tensorflow.org/api_docs/python/tf/io/FixedLenFeature) objects.  This mapping is necessary for telling TensorFlow how to read data in a TFRecord file into tensors.  Specifically, all numeric data exported from Earth Engine is exported as `float32`. \n",
        "\n",
        "(Note: *features* in the TensorFlow context (i.e. [`feature.proto`](https://github.com/tensorflow/tensorflow/blob/r1.12/tensorflow/core/example/feature.proto)) are not to be confused with Earth Engine features (i.e. [`ee.Feature`](https://developers.google.com/earth-engine/api_docs#eefeature)), where the former is a protocol message type for serialized data input to the model and the latter is a geometry-based geographic data structure.)  "
      ]
    },
    {
      "cell_type": "code",
      "metadata": {
        "cellView": "code",
        "colab_type": "code",
        "id": "-6JVQV5HKHMZ",
        "colab": {}
      },
      "source": [
        "# List of fixed-length features, all of which are float32.\n",
        "# featureNames=[ \"to_settle\",  \"b2\",  \"ndvi_2018\",  \"b3\",  \"b4\",  \"b5\",  \"b6\",  \"ndvi_2012\",  \"b1\"];\n",
        "featureNames=[ \"to_settle\",  \"b2\",  \"b3\",  \"b4\",  \"b6\",\"b5\",  \"b1\"];\n",
        "columns = [\n",
        "  tf.io.FixedLenFeature(shape=[1], dtype=tf.float32) for k in featureNames\n",
        "]\n",
        "\n",
        "# Dictionary with names as keys, features as values.\n",
        "featuresDict = dict(zip(featureNames, columns))\n",
        "\n",
        "pprint(featuresDict)"
      ],
      "execution_count": 0,
      "outputs": []
    },
    {
      "cell_type": "markdown",
      "metadata": {
        "colab_type": "text",
        "id": "QNfaUPbcjuCO"
      },
      "source": [
        "## Parse the dataset\n",
        "\n",
        "Now we need to make a parsing function for the data in the TFRecord files.  The data comes in flattened 2d arrays per record and we want to use the first part of the array for input to the model and the last element of the array as the class label.  The parsing function reads data from a serialized `Example` proto (i.e. [`example.proto`](https://github.com/tensorflow/tensorflow/blob/r1.12/tensorflow/core/example/example.proto)) into a dictionary in which the keys are the feature names and the values are the tensors storing the value of the features for that example.  ([Learn more about parsing `Example` protocol buffer messages](https://www.tensorflow.org/programmers_guide/datasets#parsing_tfexample_protocol_buffer_messages)).  The parsing function uses the `featuresDict` to read the serialized example, then returns a tuple of the predictors and the label, cast to an `int32`.  The check at the end is to print a single record from the parsed TFRecord file."
      ]
    },
    {
      "cell_type": "code",
      "metadata": {
        "cellView": "code",
        "colab_type": "code",
        "id": "x2Q0g3fBj2kD",
        "colab": {}
      },
      "source": [
        "# Define the parsing function.\n",
        "label = 'to_settle'\n",
        "def parse_tfrecord(example_proto):\n",
        "  parsed_features = tf.io.parse_single_example(example_proto, featuresDict)\n",
        "  labels = parsed_features.pop(label)\n",
        "  return parsed_features, tf.cast(labels, tf.int32)\n",
        "\n",
        "# Map the function over the dataset.\n",
        "parsedDataset = trainDataset.map(parse_tfrecord, num_parallel_calls=5)\n",
        "\n",
        "# Print the first thing to check.\n",
        "pprint(iter(parsedDataset).next())"
      ],
      "execution_count": 0,
      "outputs": []
    },
    {
      "cell_type": "markdown",
      "metadata": {
        "colab_type": "text",
        "id": "Nb8EyNT4Xnhb"
      },
      "source": [
        "Note that each record of the parsed dataset contains a tuple.  The first element of the tuple is a dictionary with bands for keys and the numeric value of the bands for values.  The second element of the tuple is a class label."
      ]
    },
    {
      "cell_type": "markdown",
      "metadata": {
        "colab_type": "text",
        "id": "nEx1RAXOZQkS"
      },
      "source": [
        "# Model setup\n",
        "\n",
        "The basic workflow for classification in TensorFlow is:\n",
        "\n",
        "1.  Create the model.\n",
        "2.  Train the model (i.e. `fit()`).\n",
        "3.  Use the trained model for inference (i.e. `predict()`).  \n",
        "\n",
        "Here we'll create a `Sequential` neural network model using Keras.  This simple model is inpired by examples in:\n",
        "\n",
        "* [The TensorFlow Get Started tutorial](https://www.tensorflow.org/tutorials/)\n",
        "* [The TensorFlow Keras guide](https://www.tensorflow.org/guide/keras#build_a_simple_model)\n",
        "* [The Keras `Sequential` model examples](https://keras.io/getting-started/sequential-model-guide/#multilayer-perceptron-mlp-for-multi-class-softmax-classification)\n",
        "\n",
        "Note that the model demonstrated here is purely for demonstration purposes and hasn't gone through any performance tuning."
      ]
    },
    {
      "cell_type": "markdown",
      "metadata": {
        "colab_type": "text",
        "id": "t9pWa54oG-xl"
      },
      "source": [
        "## Create the Keras model\n",
        "\n",
        "Before we create the model, there's still a wee bit of pre-processing to get the data into the right input shape and a format that can be used with cross-entropy loss.  Specifically, Keras expects a list of inputs and a one-hot vector for the class.(See [the Keras loss function docs](https://keras.io/losses/), [the TensorFlow categorical identity docs](https://www.tensorflow.org/guide/feature_columns#categorical_identity_column) and [the `tf.one_hot` docs](https://www.tensorflow.org/api_docs/python/tf/one_hot) for details).  \n",
        "\n",
        "Here we will use a simple neural network model with a 64 node hidden layer, a dropout layer and an output layer.  Once the dataset has been prepared, define the model, compile it, fit it to the training data.  See [the Keras `Sequential` model guide](https://keras.io/getting-started/sequential-model-guide/) for more details.\n"
      ]
    },
    {
      "cell_type": "code",
      "metadata": {
        "cellView": "code",
        "colab_type": "code",
        "id": "OCZq3VNpG--G",
        "colab": {}
      },
      "source": [
        "from tensorflow import keras\n",
        "\n",
        "# How many classes there are in the model.\n",
        "nClasses = 2\n",
        "# Add NDVI.\n",
        "inputDataset = parsedDataset\n",
        "# Keras requires inputs as a tuple.  Note that the inputs must be in the\n",
        "# right shape.  Also note that to use the categorical_crossentropy loss,\n",
        "# the label needs to be turned into a one-hot vector.\n",
        "def toTuple(dict, label):\n",
        "  return tf.transpose(dict.values()), tf.one_hot(indices=label-1, depth=nClasses)\n",
        "\n",
        "# Repeat the input dataset as many times as necessary in batches of 10.\n",
        "inputDatasetTuple = inputDataset.map(toTuple)\n",
        "\n",
        "#split into train test vaidation\n",
        "DATASET_SIZE = [i for i,_ in enumerate(inputDatasetTuple)][-1] + 1\n",
        "\n",
        "inputDatasetTuple=inputDatasetTuple.shuffle(DATASET_SIZE+1)\n",
        "train_size = int(0.6 * DATASET_SIZE)\n",
        "val_size = int(0.20 * DATASET_SIZE)\n",
        "test_size = int(0.20 * DATASET_SIZE)\n",
        "\n",
        "trainDataset = inputDatasetTuple.take(train_size).repeat().batch(10)\n",
        "testDataset = inputDatasetTuple.skip(train_size)\n",
        "valDataset = testDataset.skip(val_size).repeat().batch(10)\n",
        "testDataset = testDataset.batch(1)\n",
        "\n",
        "\n",
        "# pprint(iter(inputDatasetTuple).next())"
      ],
      "execution_count": 0,
      "outputs": []
    },
    {
      "cell_type": "markdown",
      "metadata": {
        "id": "NQ9MDVIUU051",
        "colab_type": "text"
      },
      "source": [
        " tf.keras.layers.Dense(24,kernel_regularizer=tf.keras.regularizers.l2(l=0.01)),\n",
        "  tf.keras.layers.ReLU(),\n",
        "  tf.keras.layers.BatchNormalization(),\n",
        "  tf.keras.layers.Dropout(0.2),\n",
        "  \n",
        "  tf.keras.layers.Dense(8,kernel_regularizer=tf.keras.regularizers.l2(l=0.01)),\n",
        "  tf.keras.layers.ReLU(),\n",
        "  tf.keras.layers.BatchNormalization(),\n",
        "  tf.keras.layers.Dropout(0.2),"
      ]
    },
    {
      "cell_type": "code",
      "metadata": {
        "id": "Jdw8SgaPUy4F",
        "colab_type": "code",
        "colab": {}
      },
      "source": [
        "learning_rate=0.001\n",
        "steps_per_epoch=15\n",
        "\n",
        "# Define the layers in the model.\n",
        "model = tf.keras.models.Sequential([\n",
        "  tf.keras.layers.Dense(64,kernel_regularizer=tf.keras.regularizers.l2(l=0.01)),\n",
        "  tf.keras.layers.ReLU(),\n",
        "  tf.keras.layers.BatchNormalization(),\n",
        "  tf.keras.layers.Dropout(0.2),\n",
        "  \n",
        "#   tf.keras.layers.Dense(32,kernel_regularizer=tf.keras.regularizers.l2(l=0.01)),\n",
        "#   tf.keras.layers.ReLU(),\n",
        "#   tf.keras.layers.BatchNormalization(),\n",
        "#   tf.keras.layers.Dropout(0.2),\n",
        "    \n",
        "#   tf.keras.layers.Dense(8,kernel_regularizer=tf.keras.regularizers.l2(l=0.01)),\n",
        "#   tf.keras.layers.ReLU(),\n",
        "#   tf.keras.layers.BatchNormalization(),\n",
        "#   tf.keras.layers.Dropout(0.2),\n",
        "    \n",
        "  tf.keras.layers.Dense(nClasses, activation=tf.nn.softmax)  \n",
        "])\n",
        "\n",
        "# Compile the model with the specified loss function.\n",
        "model.compile(optimizer=tf.train.AdamOptimizer(learning_rate=learning_rate),\n",
        "              loss='categorical_crossentropy',\n",
        "              metrics=['accuracy'])\n",
        "\n",
        "# Fit the model to the training data.\n",
        "# Don't forget to specify `steps_per_epoch`  when calling `fit` on a dataset.\n",
        "history=model.fit(x=trainDataset, epochs=100, steps_per_epoch=steps_per_epoch,validation_data=valDataset,validation_steps=10)\n"
      ],
      "execution_count": 0,
      "outputs": []
    },
    {
      "cell_type": "markdown",
      "metadata": {
        "id": "19d0X7XPWWt5",
        "colab_type": "text"
      },
      "source": [
        "Plotting the training and validation curves"
      ]
    },
    {
      "cell_type": "code",
      "metadata": {
        "id": "BqJtSgEgV5Jm",
        "colab_type": "code",
        "colab": {}
      },
      "source": [
        "import matplotlib.pyplot as plt\n",
        "print(history.history.keys())\n",
        "# summarize history for accuracy\n",
        "plt.plot(history.history['acc'])\n",
        "plt.plot(history.history['val_acc'])\n",
        "plt.title('model accuracy')\n",
        "plt.ylabel('accuracy')\n",
        "plt.xlabel('epoch')\n",
        "plt.legend(['train', 'test'], loc='upper left')\n",
        "plt.show()\n",
        "# summarize history for loss\n",
        "plt.plot(history.history['loss'])\n",
        "plt.plot(history.history['val_loss'])\n",
        "plt.title('model loss')\n",
        "plt.ylabel('loss')\n",
        "plt.xlabel('epoch')\n",
        "plt.legend(['train', 'val'], loc='upper left')\n",
        "plt.show()"
      ],
      "execution_count": 0,
      "outputs": []
    },
    {
      "cell_type": "markdown",
      "metadata": {
        "colab_type": "text",
        "id": "Pa4ex_4eKiyb"
      },
      "source": [
        "## Check model accuracy on the test set\n",
        "\n",
        "Now that we have a trained model, we can evaluate it using the test dataset.  To do that, read and prepare the test dataset in the same way as the training dataset.  Here we specify a batch sie of 1 so that each example in the test set is used exactly once to compute model accuracy.  For model steps, just specify a number larger than the test dataset size (ignore the warning)."
      ]
    },
    {
      "cell_type": "code",
      "metadata": {
        "cellView": "code",
        "colab_type": "code",
        "id": "tE6d7FsrMa1p",
        "colab": {}
      },
      "source": [
        "model.evaluate(testDataset, steps=100)"
      ],
      "execution_count": 0,
      "outputs": []
    },
    {
      "cell_type": "markdown",
      "metadata": {
        "colab_type": "text",
        "id": "nhHrnv3VR0DU"
      },
      "source": [
        "# Use the trained model to classify an image from Earth Engine\n",
        "\n",
        "Now it's time to classify the image that was exported from Earth Engine.  If the exported image is large, it will be split into multiple TFRecord files in its destination folder.  There will also be a JSON sidecar file called \"the mixer\" that describes the format and georeferencing of the image.  Here we will find the image files and the mixer file, getting some info out of the mixer that will be useful during model inference."
      ]
    },
    {
      "cell_type": "markdown",
      "metadata": {
        "colab_type": "text",
        "id": "nmTayDitZgQ5"
      },
      "source": [
        "## Find the image files and JSON mixer file in Cloud Storage\n",
        "\n",
        "Use `gsutil` to locate the files of interest in the output Cloud Storage bucket.  Check to make sure your image export task finished before running the following."
      ]
    },
    {
      "cell_type": "code",
      "metadata": {
        "colab_type": "code",
        "id": "oUv9WMpcVp8E",
        "colab": {}
      },
      "source": [
        "# Get a list of all the files in the output bucket.\n",
        "imageFilePrefix='vembanad_image_stn_1218'\n",
        "import glob\n",
        "filesList=glob.glob(\"/gdrive/My Drive/vembanad_samples_1218/*\")\n",
        "\n",
        "# Get only the files generated by the image export.\n",
        "exportFilesList = [s for s in filesList if imageFilePrefix in s]\n",
        "\n",
        "# Get the list of image files and the JSON mixer file.\n",
        "imageFilesList = []\n",
        "jsonFile = None\n",
        "for f in exportFilesList:\n",
        "  if f.endswith('.gz'):\n",
        "    imageFilesList.append(f)\n",
        "  elif f.endswith('.json'):\n",
        "    jsonFile = f\n",
        "\n",
        "# Make sure the files are in the right order.\n",
        "imageFilesList.sort()\n",
        "\n",
        "pprint(imageFilesList)\n",
        "print(jsonFile)"
      ],
      "execution_count": 0,
      "outputs": []
    },
    {
      "cell_type": "markdown",
      "metadata": {
        "colab_type": "text",
        "id": "RcjYG9fk53xL"
      },
      "source": [
        "## Read the JSON mixer file\n",
        "\n",
        "The mixer contains metadata and georeferencing information for the exported patches, each of which is in a different file.  Read the mixer to get some information needed for prediction."
      ]
    },
    {
      "cell_type": "code",
      "metadata": {
        "colab_type": "code",
        "id": "Gn7Dr0AAd93_",
        "colab": {}
      },
      "source": [
        "import json\n",
        "\n",
        "# Load the contents of the mixer file to a JSON object.\n",
        "jsonText = !cat '{jsonFile}'\n",
        "# Get a single string w/ newlines from the IPython.utils.text.SList\n",
        "mixer = json.loads(jsonText.nlstr)\n",
        "pprint(mixer)"
      ],
      "execution_count": 0,
      "outputs": []
    },
    {
      "cell_type": "markdown",
      "metadata": {
        "colab_type": "text",
        "id": "6xyzyPPJwpVI"
      },
      "source": [
        "## Read the image files into a dataset\n",
        "\n",
        "You can feed the list of files (`imageFilesList`) directly to the `TFRecordDataset` constructor to make a combined dataset on which to perform inference.  The input needs to be preprocessed differently than the training and testing.  Mainly, this is because the pixels are written into records as patches, we need to read the patches in as one big tensor (one patch for each band), then flatten them into lots of little tensors.  We also need to add dummy labels."
      ]
    },
    {
      "cell_type": "code",
      "metadata": {
        "cellView": "code",
        "colab_type": "code",
        "id": "tn8Kj3VfwpiJ",
        "colab": {}
      },
      "source": [
        "bands=[\"b1\",\"b2\",\"b3\",\"b4\",\"b5\",\"b6\"]\n",
        "# Get relevant info from the JSON mixer file.\n",
        "PATCH_WIDTH = mixer['patchDimensions'][0]\n",
        "PATCH_HEIGHT = mixer['patchDimensions'][1]\n",
        "PATCHES = mixer['totalPatches']\n",
        "PATCH_DIMENSIONS_FLAT = [PATCH_WIDTH * PATCH_HEIGHT, 1]\n",
        "\n",
        "# Note that the tensors are in the shape of a patch, one patch for each band.\n",
        "imageColumns = [\n",
        "  tf.FixedLenFeature(shape=PATCH_DIMENSIONS_FLAT, dtype=tf.float32) \n",
        "    for k in bands\n",
        "]\n",
        "\n",
        "# Parsing dictionary.\n",
        "imageFeaturesDict = dict(zip(bands, imageColumns))\n",
        "\n",
        "# Note that you can make one dataset from many files by specifying a list.\n",
        "imageDataset = tf.data.TFRecordDataset(imageFilesList, compression_type='GZIP')\n",
        "\n",
        "# Parsing function.\n",
        "def parse_image(example_proto):\n",
        "  return tf.parse_single_example(example_proto, imageFeaturesDict)\n",
        "\n",
        "# Parse the data into tensors, one long tensor per patch.\n",
        "imageDataset = imageDataset.map(parse_image, num_parallel_calls=5)\n",
        "\n",
        "# Break our long tensors into many littler ones.\n",
        "imageDataset = imageDataset.flat_map(\n",
        "  lambda features: tf.data.Dataset.from_tensor_slices(features)\n",
        ")\n",
        "\n",
        "# Add additional features (NDVI).\n",
        "# imageDataset = imageDataset.map(\n",
        "#   # Add NDVI to a feature that doesn't have a label.\n",
        "#   lambda features: addFeatures(features, None)[0]\n",
        "# )\n",
        "\n",
        "# Turn the dictionary in each record into a tuple with a dummy label.\n",
        "imageDataset = imageDataset.map(\n",
        "  # Add a dummy target (-1), with a value that is obviously ridiculous.\n",
        "  # This is because the model expects a tuple of (inputs, label).\n",
        "  lambda dataDict: (tf.transpose(dataDict.values()), tf.constant(-1))\n",
        ")\n",
        "\n",
        "# Turn each patch into a batch.\n",
        "imageDataset = imageDataset.batch(PATCH_WIDTH * PATCH_HEIGHT)"
      ],
      "execution_count": 0,
      "outputs": []
    },
    {
      "cell_type": "markdown",
      "metadata": {
        "colab_type": "text",
        "id": "_2sfRemRRDkV"
      },
      "source": [
        "## Generate predictions for the image pixels\n",
        "\n",
        "To get predictions in each pixel, run the image dataset through the trained model using `model.predict()`.  Print the first prediction to see that the output is a list of the three class probabilities for each pixel.  Running all predictions might take a while."
      ]
    },
    {
      "cell_type": "code",
      "metadata": {
        "colab_type": "code",
        "id": "8VGhmiP_REBP",
        "colab": {}
      },
      "source": [
        "# Run prediction in batches, with as many steps as there are patches.\n",
        "predictions = model.predict(imageDataset, steps=PATCHES, verbose=1)\n",
        "\n",
        "print(iter(predictions).next())"
      ],
      "execution_count": 0,
      "outputs": []
    },
    {
      "cell_type": "markdown",
      "metadata": {
        "colab_type": "text",
        "id": "bPU2VlPOikAy"
      },
      "source": [
        "## Write the predictions to a TFRecord file\n",
        "\n",
        "Now that there's a list of class probabilities in `predictions`, it's time to write them back into a file, optionally including a class label which is simply the index of the maximum probability.  We'll write directly from TensorFlow to a file in the output Cloud Storage bucket.\n",
        "\n",
        "Iterate over the list, compute class label and write the class and the probabilities in patches.  Specifically, we need to write the pixels into the file as patches in the same order they came out.  The records are written as serialized `tf.train.Example` protos.  This might take a while."
      ]
    },
    {
      "cell_type": "code",
      "metadata": {
        "cellView": "code",
        "colab_type": "code",
        "id": "kATMknHc0qeR",
        "colab": {}
      },
      "source": [
        "outputImageFile = '/gdrive/My Drive/vembanad_samples_1218/vembanad_1218_output1'\n",
        "\n",
        "# Instantiate the writer.\n",
        "writer = tf.python_io.TFRecordWriter(outputImageFile)\n",
        "\n",
        "# Every patch-worth of predictions we'll dump an example into the output\n",
        "# file with a single feature that holds our predictions. Since our predictions\n",
        "# are already in the order of the exported data, the patches we create here\n",
        "# will also be in the right order.\n",
        "patch = [[], [], []]\n",
        "curPatch = 1\n",
        "for prediction in predictions:\n",
        "  patch[0].append(tf.argmax(prediction, 1))\n",
        "  patch[1].append(prediction[0][0])\n",
        "  patch[2].append(prediction[0][1])\n",
        "  # Once we've seen a patches-worth of class_ids...\n",
        "  if (len(patch[0]) == PATCH_WIDTH * PATCH_HEIGHT):\n",
        "    print('Done with patch ' + str(curPatch) + ' of ' + str(PATCHES) + '...')\n",
        "    # Create an example\n",
        "    example = tf.train.Example(\n",
        "      features=tf.train.Features(\n",
        "        feature={\n",
        "          'prediction': tf.train.Feature(\n",
        "              int64_list=tf.train.Int64List(\n",
        "                  value=patch[0])),\n",
        "          'nonSetProb': tf.train.Feature(\n",
        "              float_list=tf.train.FloatList(\n",
        "                  value=patch[1])),\n",
        "          'setProb': tf.train.Feature(\n",
        "              float_list=tf.train.FloatList(\n",
        "                  value=patch[2]))\n",
        "        }\n",
        "      )\n",
        "    )\n",
        "    # Write the example to the file and clear our patch array so it's ready for\n",
        "    # another batch of class ids\n",
        "    writer.write(example.SerializeToString())\n",
        "    patch = [[], [], []]\n",
        "    curPatch += 1\n",
        "\n",
        "writer.close()"
      ],
      "execution_count": 0,
      "outputs": []
    },
    {
      "cell_type": "markdown",
      "metadata": {
        "colab_type": "text",
        "id": "1K_1hKs0aBdA"
      },
      "source": [
        "# Upload the classifications to an Earth Engine asset"
      ]
    },
    {
      "cell_type": "markdown",
      "metadata": {
        "colab_type": "text",
        "id": "M6sNZXWOSa82"
      },
      "source": [
        "## Verify the existence of the predictions file\n",
        "\n",
        "At this stage, there should be a predictions TFRecord file sitting in the output Cloud Storage bucket.  Use the `gsutil` command to verify that the predictions image (and associated mixer JSON) exist and have non-zero size."
      ]
    },
    {
      "cell_type": "code",
      "metadata": {
        "colab_type": "code",
        "id": "6ZVWDPefUCgA",
        "colab": {}
      },
      "source": [
        "# !gsutil ls -l {outputImageFile}\n",
        "!earthengine upload image -h"
      ],
      "execution_count": 0,
      "outputs": []
    },
    {
      "cell_type": "markdown",
      "metadata": {
        "colab_type": "text",
        "id": "2ZyCo297Clcx"
      },
      "source": [
        "## Upload the classified image to Earth Engine\n",
        "\n",
        "Upload the image to Earth Engine directly from the Cloud Storage bucket with the [`earthengine` command](https://developers.google.com/earth-engine/command_line#upload).  Provide both the image TFRecord file and the JSON file as arguments to `earthengine upload`."
      ]
    },
    {
      "cell_type": "code",
      "metadata": {
        "cellView": "code",
        "colab_type": "code",
        "id": "NXulMNl9lTDv",
        "colab": {}
      },
      "source": [
        "# REPLACE WITH YOUR ASSETS FOLDER!\n",
        "outputAssetID = 'users/balaji9th/vembanad/new' \n",
        "prefix = 'gs://eeia2019/'\n",
        "\n",
        "# jsonFile = prefix+'Image_pixel_demo_floatmixer.json'\n",
        "# jsonFile = prefix+'Image_pixel_demo_float00000.tfrecord.gz\n",
        "# jsonFile = prefix+'Image_pixel_demo_float00001.tfrecord.gz\n",
        "# jsonFile = prefix+'Image_pixel_demo_float00002.tfrecord.gz\n",
        "\n",
        "\n",
        "# Start the upload.\n",
        "# !earthengine upload image --asset_id={outputAssetID} {outputImageFile} {jsonFile}\n",
        "\n",
        "!earthengine upload image --asset_id={outputAssetID} {outputImageFile}"
      ],
      "execution_count": 0,
      "outputs": []
    },
    {
      "cell_type": "markdown",
      "metadata": {
        "colab_type": "text",
        "id": "Yt4HyhUU_Bal"
      },
      "source": [
        "## Check the status of the asset ingestion\n",
        "\n",
        "You can also use the Earth Engine API to check the status of your asset upload.  The upload of the image is an asset ingestion task.  "
      ]
    },
    {
      "cell_type": "code",
      "metadata": {
        "cellView": "code",
        "colab_type": "code",
        "id": "_vB-gwGhl_3C",
        "colab": {}
      },
      "source": [
        "ee.batch.Task.list()"
      ],
      "execution_count": 0,
      "outputs": []
    },
    {
      "cell_type": "markdown",
      "metadata": {
        "colab_type": "text",
        "id": "vvXvy9GDhM-p"
      },
      "source": [
        "## View the ingested asset\n",
        "\n"
      ]
    },
    {
      "cell_type": "code",
      "metadata": {
        "colab_type": "code",
        "id": "kEkVxIyJiFd4",
        "colab": {}
      },
      "source": [
        "import folium\n",
        "predictionsImage = ee.Image(outputAssetID)\n",
        "EE_TILES = 'https://earthengine.googleapis.com/map/{mapid}/{{z}}/{{x}}/{{y}}?token={token}'\n",
        "\n",
        "predictionVis = {\n",
        "  'bands': 'prediction',\n",
        "  'min': 0,\n",
        "  'max': 1,\n",
        "  'palette': ['red', 'green']\n",
        "}\n",
        "probabilityVis = {'bands': ['nonSetProb', 'setProb']}\n",
        "\n",
        "predictionMapid = predictionsImage.getMapId(predictionVis)\n",
        "probabilityMapid = predictionsImage.getMapId(probabilityVis)\n",
        "\n",
        "map = folium.Map(location=[38., -122.5])\n",
        "folium.raster_layers.TileLayer(\n",
        "  tiles=EE_TILES.format(**predictionMapid),\n",
        "  attr='Google Earth Engine',\n",
        "  overlay=True,\n",
        "  name='prediction',\n",
        ").add_to(map)\n",
        "folium.raster_layers.TileLayer(\n",
        "  tiles=EE_TILES.format(**probabilityMapid),\n",
        "  attr='Google Earth Engine',\n",
        "  overlay=True,\n",
        "  name='probability',\n",
        ").add_to(map)\n",
        "map.add_child(folium.LayerControl())\n",
        "map"
      ],
      "execution_count": 0,
      "outputs": []
    }
  ]
}